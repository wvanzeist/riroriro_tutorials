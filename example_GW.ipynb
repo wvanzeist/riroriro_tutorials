{
 "cells": [
  {
   "cell_type": "markdown",
   "metadata": {},
   "source": [
    "This tutorial will give an example of how to use Riroriro to generate a synthetic gravitational wave signal for a binary black hole merger."
   ]
  },
  {
   "cell_type": "code",
   "execution_count": 1,
   "metadata": {},
   "outputs": [],
   "source": [
    "import numpy as np\n",
    "\n",
    "import riroriro.inspiralfuns as ins"
   ]
  },
  {
   "cell_type": "markdown",
   "metadata": {},
   "source": [
    "We pick a system with mass log(Mc/Msun) = 1.4 and mass ratio q = 0.8, chosen for being comparable to the system that generated GW150914, the first detected gravitational wave signal. You can adjust the values below; for best results,  choose log(Mc/Msun) between 0.0 and 2.0 and q between 0.1 and 1.0, the ranges over which these parameters have been tested.\n",
    "\n",
    "For the other parameters we choose defaults; note that the distance here is set to 100.0 Mpc here as the module for calculating the SNR of a gravitational waveform (snrcalculatorfuns) assumes the waveform was generated with this default distance, and the distance at which you want to calculate the SNR of the merger can then be set at that point. However, as long as you keep that in mind the distance could be adjusted here e.g. for graphing purposes.\n",
    "\n",
    "If the merger you are generating the gravitational wave signal for is a binary black hole merger, set merger_type to be 'BH'. For binary neutron star and black hole–neutron star mergers, use 'NS'. For a 'NS' waveform, you should only simulate the inspiral portion (inspiralfuns) and not the merger/ringdown (as the mathematical equations used for the merger/ringdown are only valid for black holes and for neutron star mergers this phase would be beyond the detectable range of LIGO anyway), while for a 'BH' you should simulate both parts.\n",
    "\n",
    "# Inspiral portion (inspiralfuns)\n",
    "\n",
    "We start by computing the waveform for the inspiral portion of the merger, and then separately compute the merger/ringdown portion and match them together.\n",
    "\n",
    "We obtain the total mass M and symmetric mass ratio eta, and then calculate two parameters used by a subsequent integration."
   ]
  },
  {
   "cell_type": "code",
   "execution_count": 2,
   "metadata": {},
   "outputs": [],
   "source": [
    "#GW150914-like\n",
    "logMc=1.4\n",
    "q=0.8\n",
    "\n",
    "#defaults\n",
    "flow=10.0           #(Hz)\n",
    "merger_type='BH'\n",
    "D=100.0             #(Mpc)\n",
    "\n",
    "M, eta = ins.get_M_and_eta(logMc=logMc,q=q)\n",
    "start_x = ins.startx(M,flow)\n",
    "end_x = ins.endx(eta,merger_type)"
   ]
  },
  {
   "cell_type": "markdown",
   "metadata": {},
   "source": [
    "We integrate a quantity called the post-Newtonian parameter, which does not directly translate to an observable property of the system but is used in the subsequent calculations."
   ]
  },
  {
   "cell_type": "code",
   "execution_count": 3,
   "metadata": {
    "scrolled": true
   },
   "outputs": [],
   "source": [
    "x, xtimes, dt = ins.PN_parameter_integration(start_x,end_x,M,eta)"
   ]
  },
  {
   "cell_type": "markdown",
   "metadata": {},
   "source": [
    "We convert the timesteps from the integration of the post-Newtonian parameter, initially given in geometric units, into the real units of seconds."
   ]
  },
  {
   "cell_type": "code",
   "execution_count": 4,
   "metadata": {},
   "outputs": [],
   "source": [
    "realtimes = ins.inspiral_time_conversion(xtimes,M)"
   ]
  },
  {
   "cell_type": "markdown",
   "metadata": {},
   "source": [
    "We calculate the phase, angular frequency and linear frequency of the inspiralling binary at each timestep."
   ]
  },
  {
   "cell_type": "code",
   "execution_count": 5,
   "metadata": {},
   "outputs": [],
   "source": [
    "i_phase, omega, freq = ins.inspiral_phase_freq_integration(x,dt,M)"
   ]
  },
  {
   "cell_type": "markdown",
   "metadata": {},
   "source": [
    "Next, we calculate the radius and its time-derivative."
   ]
  },
  {
   "cell_type": "code",
   "execution_count": 6,
   "metadata": {},
   "outputs": [],
   "source": [
    "r, rdot = ins.radius_calculation(x,M,eta)"
   ]
  },
  {
   "cell_type": "markdown",
   "metadata": {},
   "source": [
    "In two steps, we calculate the values over time of the two polarisations (orthogonal/plus and diagonal/cross) of the gravitational waveform."
   ]
  },
  {
   "cell_type": "code",
   "execution_count": 7,
   "metadata": {},
   "outputs": [],
   "source": [
    "A1, A2 = ins.a1_a2_calculation(r,rdot,omega,D,M,eta)"
   ]
  },
  {
   "cell_type": "code",
   "execution_count": 8,
   "metadata": {},
   "outputs": [],
   "source": [
    "Aorth, Adiag = ins.inspiral_strain_polarisations(A1,A2,i_phase)"
   ]
  },
  {
   "cell_type": "markdown",
   "metadata": {},
   "source": [
    "Using the strain polarisations, we compute the overall strain amplitude of the signal over the duration of the inspiral."
   ]
  },
  {
   "cell_type": "code",
   "execution_count": 9,
   "metadata": {},
   "outputs": [],
   "source": [
    "i_amp = ins.inspiral_strain_amplitude(Aorth,Adiag)"
   ]
  },
  {
   "cell_type": "markdown",
   "metadata": {},
   "source": [
    "Below, we reduce the size of the lists we will use again in the subsequent calculations, for the purposes of reducing the file size of the ultimate output file containing the data of the gravitational waveform. The reduction factor of 100 chosen here has a negligible effect on the numerical properties of the signal. This step is not necessary for the subsequent calculations and rather done for convenience, so you can skip it if you want."
   ]
  },
  {
   "cell_type": "code",
   "execution_count": 13,
   "metadata": {},
   "outputs": [],
   "source": [
    "i_time = ins.list_size_reducer(100,realtimes)\n",
    "i_omega = ins.list_size_reducer(100,omega)\n",
    "i_phase = ins.list_size_reducer(100,i_phase)\n",
    "i_amp = ins.list_size_reducer(100,i_amp)"
   ]
  },
  {
   "cell_type": "markdown",
   "metadata": {},
   "source": [
    "# Starting the merger/ringdown portion (mergerfirstfuns)\n",
    "\n",
    "Now, we begin the calculations for the merger/ringdown portion of the waveform."
   ]
  },
  {
   "cell_type": "code",
   "execution_count": 14,
   "metadata": {},
   "outputs": [],
   "source": [
    "import riroriro.mergerfirstfuns as me1"
   ]
  },
  {
   "cell_type": "markdown",
   "metadata": {},
   "source": [
    "These first few calculations are just to compute some constant coefficients, depending only on the symmetric mass ratio, that are used by the subsequent calculations."
   ]
  },
  {
   "cell_type": "code",
   "execution_count": 15,
   "metadata": {},
   "outputs": [],
   "source": [
    "sfin, wqnm = me1.quasi_normal_modes(eta)\n",
    "alpha, b, C, kappa = me1.gIRS_coefficients(eta,sfin)"
   ]
  },
  {
   "cell_type": "markdown",
   "metadata": {},
   "source": [
    "Next, we calculate the frequencies for the merger/ringdown portion."
   ]
  },
  {
   "cell_type": "code",
   "execution_count": 16,
   "metadata": {},
   "outputs": [],
   "source": [
    "fhat, m_omega = me1.merger_freq_calculation(wqnm,b,C,kappa)"
   ]
  },
  {
   "cell_type": "code",
   "execution_count": 17,
   "metadata": {},
   "outputs": [],
   "source": [
    "fhatdot = me1.fhat_differentiation(fhat)"
   ]
  },
  {
   "cell_type": "markdown",
   "metadata": {},
   "source": [
    "As with the inspiral, we convert the timesteps from geometric units to seconds."
   ]
  },
  {
   "cell_type": "code",
   "execution_count": 18,
   "metadata": {},
   "outputs": [],
   "source": [
    "m_time = me1.merger_time_conversion(M)"
   ]
  },
  {
   "cell_type": "markdown",
   "metadata": {},
   "source": [
    "# Matching the inspiral and merger/ringdown (matchingfuns)\n",
    "\n",
    "Before we calculate more parameters for the merger/ringdown portion, we start to match together the inspiral and merger/ringdown portions into a single waveform for the whole process."
   ]
  },
  {
   "cell_type": "code",
   "execution_count": 19,
   "metadata": {},
   "outputs": [],
   "source": [
    "import riroriro.matchingfuns as mat"
   ]
  },
  {
   "cell_type": "markdown",
   "metadata": {},
   "source": [
    "We calculate the timestep indices at which the switch from inspiral to merger/ringdown should occur to give the smoothest transition in frequency and frequency gradient, and calculate the offset that needs to be applied to the real-unit time data for the merger/ringdown portion so that the two portions are aligned in time at the transition."
   ]
  },
  {
   "cell_type": "code",
   "execution_count": 20,
   "metadata": {},
   "outputs": [],
   "source": [
    "min_switch_ind = mat.min_switch_ind_finder(i_time,i_omega,m_time,m_omega)"
   ]
  },
  {
   "cell_type": "code",
   "execution_count": 21,
   "metadata": {},
   "outputs": [],
   "source": [
    "final_i_index = mat.final_i_index_finder(min_switch_ind,i_omega,m_omega)\n",
    "time_offset = mat.time_offset_finder(min_switch_ind,final_i_index,i_time,m_time)"
   ]
  },
  {
   "cell_type": "markdown",
   "metadata": {},
   "source": [
    "Using the parameters calculated above, we create combined lists for the time and angular frequency values for the whole binary merger, including both portions and the proper transition between them."
   ]
  },
  {
   "cell_type": "code",
   "execution_count": 22,
   "metadata": {},
   "outputs": [],
   "source": [
    "i_m_time, i_m_omega = mat.time_frequency_stitching(min_switch_ind,final_i_index,time_offset,i_time,i_omega,m_time,m_omega)"
   ]
  },
  {
   "cell_type": "markdown",
   "metadata": {},
   "source": [
    "We convert the angular frequency of the merging binary to a linear frequency, which is what would be observed by gravitational wave detectors."
   ]
  },
  {
   "cell_type": "code",
   "execution_count": 23,
   "metadata": {},
   "outputs": [],
   "source": [
    "i_m_freq = mat.frequency_SI_units(i_m_omega,M)"
   ]
  },
  {
   "cell_type": "markdown",
   "metadata": {},
   "source": [
    "# Rest of merger/ringdown functions (mergersecondfuns)"
   ]
  },
  {
   "cell_type": "code",
   "execution_count": 24,
   "metadata": {},
   "outputs": [],
   "source": [
    "import riroriro.mergersecondfuns as me2"
   ]
  },
  {
   "cell_type": "markdown",
   "metadata": {},
   "source": [
    "We now calculate the values of phase for the merger/ringdown portion and then combine the inspiral and merger/ringdown phase lists, making sure that the phase values are smooth across the transition (we compute this after doing the matching so that we know when the transition is)."
   ]
  },
  {
   "cell_type": "code",
   "execution_count": 25,
   "metadata": {},
   "outputs": [],
   "source": [
    "m_phase = me2.merger_phase_calculation(min_switch_ind,final_i_index,i_phase,m_omega)"
   ]
  },
  {
   "cell_type": "code",
   "execution_count": 26,
   "metadata": {},
   "outputs": [],
   "source": [
    "i_m_phase = me2.phase_stitching(final_i_index,i_phase,m_phase)"
   ]
  },
  {
   "cell_type": "markdown",
   "metadata": {},
   "source": [
    "We calculate the strain amplitude for the merger/ringdown portion and then combine the amplitude lists for the two portions of the waveform."
   ]
  },
  {
   "cell_type": "code",
   "execution_count": 27,
   "metadata": {},
   "outputs": [],
   "source": [
    "m_amp = me2.merger_strain_amplitude(min_switch_ind,final_i_index,alpha,i_amp,m_omega,fhat,fhatdot)"
   ]
  },
  {
   "cell_type": "code",
   "execution_count": 28,
   "metadata": {},
   "outputs": [],
   "source": [
    "i_m_amp = me2.amplitude_stitching(final_i_index,i_amp,m_amp)"
   ]
  },
  {
   "cell_type": "markdown",
   "metadata": {},
   "source": [
    "Below are graphs showing the values of the strain (envelope) amplitude and frequency over time for the whole waveform."
   ]
  },
  {
   "cell_type": "code",
   "execution_count": 29,
   "metadata": {},
   "outputs": [
    {
     "data": {
      "text/plain": [
       "Text(0, 0.5, 'Frequency (Hz)')"
      ]
     },
     "execution_count": 29,
     "metadata": {},
     "output_type": "execute_result"
    },
    {
     "data": {
      "image/png": "[encoded data removed]",
      "text/plain": [
       "<Figure size 432x288 with 1 Axes>"
      ]
     },
     "metadata": {
      "needs_background": "light"
     },
     "output_type": "display_data"
    },
    {
     "data": {
      "image/png": "[encoded data removed]",
      "text/plain": [
       "<Figure size 432x288 with 1 Axes>"
      ]
     },
     "metadata": {
      "needs_background": "light"
     },
     "output_type": "display_data"
    }
   ],
   "source": [
    "import matplotlib.pyplot as plt\n",
    "\n",
    "plt.figure(1)\n",
    "plt.plot(i_m_time,i_m_amp)\n",
    "plt.xlabel('Time (s)')\n",
    "plt.ylabel('Strain amplitude')\n",
    "\n",
    "plt.figure(2)\n",
    "plt.plot(i_m_time,i_m_freq)\n",
    "plt.xlabel('Time (s)')\n",
    "plt.ylabel('Frequency (Hz)')"
   ]
  },
  {
   "cell_type": "code",
   "execution_count": null,
   "metadata": {},
   "outputs": [],
   "source": []
  }
 ],
 "metadata": {
  "kernelspec": {
   "display_name": "Python 3",
   "language": "python",
   "name": "python3"
  },
  "language_info": {
   "codemirror_mode": {
    "name": "ipython",
    "version": 3
   },
   "file_extension": ".py",
   "mimetype": "text/x-python",
   "name": "python",
   "nbconvert_exporter": "python",
   "pygments_lexer": "ipython3",
   "version": "3.8.8"
  }
 },
 "nbformat": 4,
 "nbformat_minor": 4
}
