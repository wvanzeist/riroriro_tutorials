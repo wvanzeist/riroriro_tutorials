{
 "cells": [
  {
   "cell_type": "markdown",
   "metadata": {},
   "source": [
    "This tutorial will give an example of how to use Riroriro to calculate horizon distances and detectability percentages for a given merger."
   ]
  },
  {
   "cell_type": "code",
   "execution_count": 1,
   "metadata": {},
   "outputs": [],
   "source": [
    "import numpy as np"
   ]
  },
  {
   "cell_type": "markdown",
   "metadata": {},
   "source": [
    "We import the data of a synthetic gravitational waveform generated using the gravitational wave functions of Riroriro (demonstrated in the tutorial example_GW), and the FINDCHIRP trace data for the corresponding waveform. The example waveform is included in this repository, but the FINDCHIRP data files are not included in Github for file size reasons and can instead be found at this link: https://drive.google.com/drive/folders/12TYxYKtBL1iuFHG_ySFhS12Aqv4JHGOr\n",
    "\n",
    "You can use any Riroriro gravitational waveform in the format output by waveform_exporter for inputarray (if you choose a system different than the default, remember to also select the corresponding FINDCHIRP trace). We use the data for a binary black hole merger with log(Mc/Msun) = 1.4 and mass ratio q = 0.8."
   ]
  },
  {
   "cell_type": "code",
   "execution_count": 2,
   "metadata": {},
   "outputs": [],
   "source": [
    "inputarray = np.genfromtxt('example_1.4_0.8.dat')\n",
    "findchirp_array = np.genfromtxt('findchirp_traces/mergerwave_1.40000_0.800000.dat')"
   ]
  },
  {
   "cell_type": "markdown",
   "metadata": {},
   "source": [
    "We import noise spectra from three detectors; these are not included in this repository for copyright reasons but were sourced from https://dcc.ligo.org/LIGO-T1500293/public\n",
    "\n",
    "You can also use different noise spectra files, as long as they have the frequency values in the first column and ASD noise levels in the second."
   ]
  },
  {
   "cell_type": "code",
   "execution_count": 3,
   "metadata": {},
   "outputs": [],
   "source": [
    "noise_l = np.genfromtxt('noise_spectra/o3_l1.txt') #LIGO Livingston\n",
    "noise_h = np.genfromtxt('noise_spectra/o3_h1.txt') #LIGO Hanford\n",
    "noise_v = np.genfromtxt('noise_spectra/o3_v1.txt') #Virgo\n",
    "\n",
    "noisearray_list = [noise_l,noise_h,noise_v]"
   ]
  },
  {
   "cell_type": "code",
   "execution_count": 4,
   "metadata": {},
   "outputs": [],
   "source": [
    "import riroriro.horizondistfuns as hor"
   ]
  },
  {
   "cell_type": "markdown",
   "metadata": {},
   "source": [
    "We calculate the optimal-alignment horizon distances for two cases: with all three detectors operating in quadrature and with a nonspecific single detector operating."
   ]
  },
  {
   "cell_type": "code",
   "execution_count": 5,
   "metadata": {},
   "outputs": [
    {
     "name": "stdout",
     "output_type": "stream",
     "text": [
      "The quadrature horizon distance is 2876.5 Mpc.\n",
      "The mean-of-individual horizon distance is 1817.4 Mpc.\n"
     ]
    }
   ],
   "source": [
    "quad_dist = hor.horizon_distance_calculation(inputarray,findchirp_array,noisearray_list,'quad')\n",
    "mean_dist = hor.horizon_distance_calculation(inputarray,findchirp_array,noisearray_list,'mean')\n",
    "\n",
    "print(\"The quadrature horizon distance is %.1f Mpc.\\n\"\n",
    "     \"The mean-of-individual horizon distance is %.1f Mpc.\" % (quad_dist,mean_dist))"
   ]
  },
  {
   "cell_type": "code",
   "execution_count": 6,
   "metadata": {},
   "outputs": [],
   "source": [
    "import riroriro.detectabilityfuns as det"
   ]
  },
  {
   "cell_type": "markdown",
   "metadata": {},
   "source": [
    "We generate a function that encodes the impact of an arbitrary alignment of source and detector upon the SNR of the signal, compared to the optimal-alignment SNR. This function does not depend on the system itself, and so only needs to be generated once even when evaluating multiple mergers."
   ]
  },
  {
   "cell_type": "code",
   "execution_count": 7,
   "metadata": {},
   "outputs": [],
   "source": [
    "Theta_CDF, min_CDF, max_CDF = det.cdf_generator()"
   ]
  },
  {
   "cell_type": "markdown",
   "metadata": {},
   "source": [
    "To show how the detectability (the probability that its SNR would be above the threshold of 8 given a random alignment) relates to the optimal-alignment SNR, we calculate the detectability over a range of optimal-alignment SNR values and illustrate the relationship with a plot. (This plot does not depend on the example system in any way.)"
   ]
  },
  {
   "cell_type": "code",
   "execution_count": 24,
   "metadata": {},
   "outputs": [],
   "source": [
    "sample_snrs = range(100)\n",
    "sample_dets = np.empty((len(sample_snrs))) \n",
    "\n",
    "for i in range(len(sample_dets)):\n",
    "    sample_dets[i] = det.detectability_calculator(Theta_CDF,min_CDF,max_CDF,float(sample_snrs[i]))"
   ]
  },
  {
   "cell_type": "code",
   "execution_count": 25,
   "metadata": {},
   "outputs": [
    {
     "data": {
      "text/plain": [
       "Text(0, 0.5, 'Detectability')"
      ]
     },
     "execution_count": 25,
     "metadata": {},
     "output_type": "execute_result"
    },
    {
     "data": {
      "image/png": "[encoded data removed]",
      "text/plain": [
       "<Figure size 432x288 with 1 Axes>"
      ]
     },
     "metadata": {
      "needs_background": "light"
     },
     "output_type": "display_data"
    }
   ],
   "source": [
    "import matplotlib.pyplot as plt\n",
    "\n",
    "plt.plot(sample_snrs,sample_dets)\n",
    "plt.xlabel('Optimal-alignment SNR')\n",
    "plt.ylabel('Detectability')"
   ]
  },
  {
   "cell_type": "code",
   "execution_count": null,
   "metadata": {},
   "outputs": [],
   "source": []
  }
 ],
 "metadata": {
  "kernelspec": {
   "display_name": "Python 3",
   "language": "python",
   "name": "python3"
  },
  "language_info": {
   "codemirror_mode": {
    "name": "ipython",
    "version": 3
   },
   "file_extension": ".py",
   "mimetype": "text/x-python",
   "name": "python",
   "nbconvert_exporter": "python",
   "pygments_lexer": "ipython3",
   "version": "3.8.3"
  }
 },
 "nbformat": 4,
 "nbformat_minor": 4
}
