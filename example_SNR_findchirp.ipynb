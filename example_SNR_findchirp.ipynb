{
 "cells": [
  {
   "cell_type": "markdown",
   "metadata": {},
   "source": [
    "This tutorial will give an example of how to use Riroriro to calculate the signal-to-noise ratio (SNR) of the gravitational waveform from a given binary merger.\n",
    "\n",
    "We import the data of a synthetic gravitational waveform generated using the gravitational wave functions of Riroriro (demonstrated in the tutorial example_GW), and the FINDCHIRP trace data for the corresponding waveform. The example waveform is included in this repository, but the FINDCHIRP data files are not included in Github for file size reasons and can instead be found at this link: https://www.dropbox.com/sh/lt8109c0c2eb10c/AADBnYXMGmWOEqCK-XWFZuJLa\n",
    "\n",
    "You can use any Riroriro gravitational waveform in the format output by waveform_exporter for inputarray (if you choose a system different than the default, remember to also select the corresponding FINDCHIRP trace). We use the data for a binary black hole merger with log(Mc/Msun) = 1.4 and mass ratio q = 0.8. We put this example system at a distance of 1000 Mpc."
   ]
  },
  {
   "cell_type": "code",
   "execution_count": 1,
   "metadata": {},
   "outputs": [],
   "source": [
    "import numpy as np\n",
    "\n",
    "inputarray = np.genfromtxt('example_1.4_0.8.dat')\n",
    "findchirp_array = np.genfromtxt('findchirp_traces/mergerwave_1.40000_0.800000.dat')\n",
    "\n",
    "d = 1000.0"
   ]
  },
  {
   "cell_type": "code",
   "execution_count": 2,
   "metadata": {},
   "outputs": [],
   "source": [
    "import riroriro.snrcalculatorfuns as snr"
   ]
  },
  {
   "cell_type": "markdown",
   "metadata": {},
   "source": [
    "We calculate the redshift from the input distance and then adjust the strain amplitude to account for the distance and the frequency to account for the effect of redshift."
   ]
  },
  {
   "cell_type": "code",
   "execution_count": 3,
   "metadata": {},
   "outputs": [],
   "source": [
    "z = snr.polynomial_redshift(d)\n",
    "inputarray = snr.redshift_distance_adjustment(inputarray,d,z) #note self-reference"
   ]
  },
  {
   "cell_type": "markdown",
   "metadata": {},
   "source": [
    "We determine the minimum and maximum of the frequency range of the waveform, which we will need at a later step."
   ]
  },
  {
   "cell_type": "code",
   "execution_count": 4,
   "metadata": {},
   "outputs": [],
   "source": [
    "freqmax, freqmin = snr.frequency_limits(inputarray)"
   ]
  },
  {
   "cell_type": "markdown",
   "metadata": {},
   "source": [
    "We perform an approximation of a Fourier transform on the strain amplitude, using the FINDCHIRP data for the system with the same parameters as calibration."
   ]
  },
  {
   "cell_type": "code",
   "execution_count": 5,
   "metadata": {},
   "outputs": [],
   "source": [
    "fourieramp = snr.findchirp_fourier(inputarray,findchirp_array,d,z)"
   ]
  },
  {
   "cell_type": "markdown",
   "metadata": {},
   "source": [
    "The below plot illustrates the relationship between the transformed amplitude and frequency, similar to figure 18 of the thesis \"Gravitational Waveform Synthesis\"."
   ]
  },
  {
   "cell_type": "code",
   "execution_count": 6,
   "metadata": {},
   "outputs": [
    {
     "data": {
      "image/png": "[encoded data removed]",
      "text/plain": [
       "<Figure size 432x288 with 1 Axes>"
      ]
     },
     "metadata": {
      "needs_background": "light"
     },
     "output_type": "display_data"
    }
   ],
   "source": [
    "import matplotlib.pyplot as plt\n",
    "\n",
    "plt.figure(1)\n",
    "plt.plot(inputarray[:,1],fourieramp)\n",
    "plt.xlabel('Frequency (Hz)')\n",
    "plt.ylabel('Transformed amplitude (1/√f(Hz))')\n",
    "plt.xscale('log')\n",
    "plt.yscale('log')"
   ]
  },
  {
   "cell_type": "markdown",
   "metadata": {},
   "source": [
    "Now we compare the transformed amplitude to the noise spectra of three detectors in order to calculate the SNR. These spectra were sourced from https://dcc.ligo.org/LIGO-T1500293/public and are also included in this repository for convenience.\n",
    "\n",
    "You can also use different noise spectra files, as long as they have the frequency values in the first column and ASD noise levels in the second.\n",
    "\n",
    "We combine the SNR values from each individual detectors to obtain both the quadrature SNR (if all three detectors were operating simultaneously) and the mean-of-individual SNR (if a non-specific single detector was operating)."
   ]
  },
  {
   "cell_type": "code",
   "execution_count": 7,
   "metadata": {},
   "outputs": [
    {
     "name": "stdout",
     "output_type": "stream",
     "text": [
      "Livingston SNR is 23.3, Hanford SNR is 18.1, Virgo SNR is 8.9.\n",
      "The quadrature SNR is 30.8.\n",
      "The mean-of-individual SNR is 16.8.\n"
     ]
    }
   ],
   "source": [
    "ind_SNR = np.empty((3))\n",
    "for i in range(3): #three detectors\n",
    "    if i == 0:\n",
    "        noisearray = np.genfromtxt('noise_spectra/o3_l1.txt') #LIGO Livingston\n",
    "    elif i == 1:\n",
    "        noisearray = np.genfromtxt('noise_spectra/o3_h1.txt') #LIGO Hanford\n",
    "    elif i == 2:\n",
    "        noisearray = np.genfromtxt('noise_spectra/o3_v1.txt') #Virgo\n",
    "    #the noise spectra are not included in this repository for copyright reasons,\n",
    "    #but the ones used for this example can be found at the following link:\n",
    "    #https://dcc.ligo.org/LIGO-T1500293/public\n",
    "    \n",
    "    noise_freq_amp = snr.amplitude_interpolation(inputarray,fourieramp,noisearray,freqmax,freqmin)\n",
    "    ind_SNR[i] = snr.individual_detector_SNR(noisearray,noise_freq_amp)\n",
    "\n",
    "quad_SNR = np.sqrt(ind_SNR[0]**2 + ind_SNR[1]**2 + ind_SNR[2]**2)\n",
    "mean_SNR = (ind_SNR[0] + ind_SNR[1] + ind_SNR[2])/3\n",
    "\n",
    "print(\"Livingston SNR is %.1f, Hanford SNR is %.1f, Virgo SNR is %.1f.\\n\"\n",
    "     \"The quadrature SNR is %.1f.\\nThe mean-of-individual SNR is %.1f.\"\n",
    "      % (ind_SNR[0],ind_SNR[1],ind_SNR[2],quad_SNR,mean_SNR))"
   ]
  },
  {
   "cell_type": "code",
   "execution_count": null,
   "metadata": {},
   "outputs": [],
   "source": []
  }
 ],
 "metadata": {
  "kernelspec": {
   "display_name": "Python 3",
   "language": "python",
   "name": "python3"
  },
  "language_info": {
   "codemirror_mode": {
    "name": "ipython",
    "version": 3
   },
   "file_extension": ".py",
   "mimetype": "text/x-python",
   "name": "python",
   "nbconvert_exporter": "python",
   "pygments_lexer": "ipython3",
   "version": "3.8.3"
  }
 },
 "nbformat": 4,
 "nbformat_minor": 4
}
